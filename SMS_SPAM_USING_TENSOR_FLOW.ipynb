{
  "cells": [
    {
      "cell_type": "markdown",
      "id": "699591db",
      "metadata": {
        "id": "699591db"
      },
      "source": [
        "#\n",
        "<h6 style='background-color: tomato; font-family:newtimeroman; font-size:300%; text-align:center; border-radius: 15px 50px;'>SMS SPAM DETECTION USING TENSORFLOW </h6>"
      ]
    },
    {
      "cell_type": "markdown",
      "id": "c5dba9a1",
      "metadata": {
        "id": "c5dba9a1"
      },
      "source": [
        "### IMPORTING LIBRARIES"
      ]
    },
    {
      "cell_type": "code",
      "execution_count": 1,
      "id": "d52e75c6",
      "metadata": {
        "id": "d52e75c6"
      },
      "outputs": [],
      "source": [
        "import numpy as np # for scientific computing in python\n",
        "import time\n",
        "import pickle   # serializing and deserializing a Python object structure.\n",
        "\n",
        "# importing for data or text_preprocessing\n",
        "import tensorflow as tf\n",
        "import tqdm #for processing the data\n",
        "from tensorflow.keras.preprocessing.text import Tokenizer\n",
        "from tensorflow.keras.preprocessing.sequence import pad_sequences\n",
        "from tensorflow.keras.utils import to_categorical\n",
        "from tensorflow.keras.callbacks import ModelCheckpoint\n",
        "\n",
        "# splitting the dataset\n",
        "from sklearn.model_selection import train_test_split\n",
        "\n",
        "#for creating the model in which by using LSTM\n",
        "from tensorflow.keras.layers import Embedding, LSTM, Dropout, Dense\n",
        "from tensorflow.keras.models import Sequential\n",
        "from tensorflow.keras.metrics import Recall, Precision\n",
        "\n",
        "\n",
        "#for allocating the gpu\n",
        "gpus = tf.config.experimental.list_physical_devices('GPU')\n",
        "if gpus:\n",
        "    # only use GPU memory that we need, not allocate all the GPU memory\n",
        "    tf.config.experimental.set_memory_growth(gpus[0], enable=True)\n"
      ]
    },
    {
      "cell_type": "markdown",
      "id": "bbd38f50",
      "metadata": {
        "id": "bbd38f50"
      },
      "source": [
        "## Load Dataset"
      ]
    },
    {
      "cell_type": "code",
      "execution_count": 3,
      "id": "ae6d6c12",
      "metadata": {
        "id": "ae6d6c12"
      },
      "outputs": [],
      "source": [
        "# load the data\n",
        "X, y = load_data()"
      ]
    },
    {
      "cell_type": "code",
      "execution_count": 2,
      "id": "93fdc832",
      "metadata": {
        "id": "93fdc832"
      },
      "outputs": [],
      "source": [
        "def load_data():\n",
        "    \"\"\"\n",
        "    Loads SMS Spam Collection dataset\n",
        "    \"\"\"\n",
        "    t, l = [], []\n",
        "    with open(\"/content/SMSSpamCollection\") as f:\n",
        "        for line in f:\n",
        "            split = line.split()\n",
        "            l.append(split[0].strip())\n",
        "            t.append(' '.join(split[1:]).strip())\n",
        "    return t, l"
      ]
    },
    {
      "cell_type": "code",
      "execution_count": 4,
      "id": "46133c7c",
      "metadata": {
        "id": "46133c7c"
      },
      "outputs": [],
      "source": [
        "print(X) #It prints the text data that includes spam and ham(legitimate) messages\n"
      ]
    },
    {
      "cell_type": "code",
      "execution_count": null,
      "id": "b6b5d940",
      "metadata": {
        "id": "b6b5d940"
      },
      "outputs": [],
      "source": [
        "print(y) #It prtints the corresponding X messages labels either spam or ham"
      ]
    },
    {
      "cell_type": "markdown",
      "id": "1ad78343",
      "metadata": {
        "id": "1ad78343"
      },
      "source": [
        "## SOME PARAMETERS"
      ]
    },
    {
      "cell_type": "code",
      "execution_count": 7,
      "id": "6db31391",
      "metadata": {
        "id": "6db31391"
      },
      "outputs": [],
      "source": [
        "SL = 100             # the length of all sequences (number of words per sample)\n",
        "EMBEDDING_SIZE = 100  # Using 100-Dimensional GloVe embedding vectors (global vectors for word representation.)\n",
        "\n",
        "\n",
        "BATCH_SIZE = 64\n",
        "EPOCHS = 10      # number of epochs\n",
        "\n",
        "# labelling the dataset as ham as 0 and spam as 1\n",
        "label2int = {\"ham\": 0, \"spam\": 1}\n",
        "int2label = {0: \"ham\", 1: \"spam\"}"
      ]
    },
    {
      "cell_type": "markdown",
      "id": "af800431",
      "metadata": {
        "id": "af800431"
      },
      "source": [
        "## PREPARING DATASET"
      ]
    },
    {
      "cell_type": "code",
      "execution_count": 8,
      "id": "08283bd9",
      "metadata": {
        "id": "08283bd9"
      },
      "outputs": [],
      "source": [
        "# Text tokenization\n",
        "# vectorizing text, turning each text into sequence of integers\n",
        "\n",
        "\n",
        "tokenizer = Tokenizer()\n",
        "tokenizer.fit_on_texts(X)\n",
        "\n",
        "# lets dump it to a file, so we can use it in testing\n",
        "pickle.dump(tokenizer, open(\"tokenizer.pickle\", \"wb\"))\n",
        "\n",
        "\n",
        "# convert to sequence of integers\n",
        "X = tokenizer.texts_to_sequences(X)"
      ]
    },
    {
      "cell_type": "code",
      "execution_count": null,
      "id": "04a9cc1a",
      "metadata": {
        "id": "04a9cc1a",
        "outputId": "5c0b1da4-3ead-4beb-dce0-4e4f73be9ce2"
      },
      "outputs": [
        {
          "name": "stdout",
          "output_type": "stream",
          "text": [
            "[49, 472, 4436, 843, 756, 659, 64, 8, 1328, 87, 123, 352, 1329, 148, 2996, 1330, 67, 58, 4437, 144]\n"
          ]
        }
      ],
      "source": [
        "print(X[0])"
      ]
    },
    {
      "cell_type": "code",
      "execution_count": null,
      "id": "e1858d6f",
      "metadata": {
        "id": "e1858d6f",
        "outputId": "623bee29-07f8-4fa7-9aea-71e9046c0076"
      },
      "outputs": [
        {
          "name": "stdout",
          "output_type": "stream",
          "text": [
            "[47, 490, 8, 19, 4, 798, 902, 2, 176, 1942, 1106, 660, 1943, 2331, 261, 2332, 71, 1942, 2, 1944, 2, 338, 490, 556, 961, 73, 392, 174, 661, 393, 2997]\n"
          ]
        }
      ],
      "source": [
        "print(X[2])"
      ]
    },
    {
      "cell_type": "code",
      "execution_count": 10,
      "id": "8760ce19",
      "metadata": {
        "id": "8760ce19"
      },
      "outputs": [],
      "source": [
        "# convert to numpy arrays\n",
        "#X = np.array(X)\n",
        "y = np.array(y)\n",
        "\n",
        "\n",
        "# pad sequences at the beginning of each sequence with 0's\n",
        "# for example if SEQUENCE_LENGTH=4:\n",
        "# [[5, 3, 2], [5, 1, 2, 3], [3, 4]]\n",
        "# will be transformed to:\n",
        "# [[0, 5, 3, 2], [5, 1, 2, 3], [0, 0, 3, 4]]\n",
        "\n",
        "X = pad_sequences(X, maxlen=SL)"
      ]
    },
    {
      "cell_type": "code",
      "execution_count": null,
      "id": "dc52a424",
      "metadata": {
        "id": "dc52a424",
        "outputId": "e820f78d-862a-47eb-f61f-3b20dc292e17"
      },
      "outputs": [
        {
          "name": "stdout",
          "output_type": "stream",
          "text": [
            "[   0    0    0    0    0    0    0    0    0    0    0    0    0    0\n",
            "    0    0    0    0    0    0    0    0    0    0    0    0    0    0\n",
            "    0    0    0    0    0    0    0    0    0    0    0    0    0    0\n",
            "    0    0    0    0    0    0    0    0    0    0    0    0    0    0\n",
            "    0    0    0    0    0    0    0    0    0    0    0    0    0    0\n",
            "    0    0    0    0    0    0    0    0    0    0   49  472 4436  843\n",
            "  756  659   64    8 1328   87  123  352 1329  148 2996 1330   67   58\n",
            " 4437  144]\n"
          ]
        }
      ],
      "source": [
        "print(X[0])"
      ]
    },
    {
      "cell_type": "code",
      "execution_count": 11,
      "id": "5d91449f",
      "metadata": {
        "id": "5d91449f"
      },
      "outputs": [],
      "source": [
        "#print(X[4])"
      ]
    },
    {
      "cell_type": "code",
      "execution_count": null,
      "id": "58f6a555",
      "metadata": {
        "id": "58f6a555"
      },
      "outputs": [],
      "source": [
        "# One Hot encoding labels\n",
        "# [spam, ham, spam, ham, ham] will be converted to:\n",
        "# [1, 0, 1, 0, 1] and then to:\n",
        "# [[0, 1], [1, 0], [0, 1], [1, 0], [0, 1]]\n",
        "\n",
        "y = [ label2int[label] for label in y ]\n",
        "y = to_categorical(y)\n"
      ]
    },
    {
      "cell_type": "code",
      "execution_count": null,
      "id": "61dfcfa3",
      "metadata": {
        "id": "61dfcfa3",
        "outputId": "2c70f15c-68c2-44f3-90e5-fd3067013c0e"
      },
      "outputs": [
        {
          "name": "stdout",
          "output_type": "stream",
          "text": [
            "[[1. 0.]\n",
            " [1. 0.]\n",
            " [0. 1.]\n",
            " ...\n",
            " [1. 0.]\n",
            " [1. 0.]\n",
            " [1. 0.]]\n"
          ]
        }
      ],
      "source": [
        "print(y)\n"
      ]
    },
    {
      "cell_type": "markdown",
      "id": "8152250c",
      "metadata": {
        "id": "8152250c"
      },
      "source": [
        "## Test train split"
      ]
    },
    {
      "cell_type": "code",
      "execution_count": null,
      "id": "e889d30b",
      "metadata": {
        "id": "e889d30b",
        "outputId": "769ea59e-e044-47a5-9175-6db4d9743fe7"
      },
      "outputs": [
        {
          "name": "stdout",
          "output_type": "stream",
          "text": [
            "X_train.shape: (4180, 100)\n",
            "X_test.shape: (1394, 100)\n",
            "y_train.shape: (4180, 2)\n",
            "y_test.shape: (1394, 2)\n"
          ]
        }
      ],
      "source": [
        "# split and shuffle\n",
        "X_train, X_test, y_train, y_test = train_test_split(X, y, test_size=0.25, random_state=7)\n",
        "\n",
        "# print our data shapes\n",
        "print(\"X_train.shape:\", X_train.shape)\n",
        "print(\"X_test.shape:\", X_test.shape)\n",
        "print(\"y_train.shape:\", y_train.shape)\n",
        "print(\"y_test.shape:\", y_test.shape)"
      ]
    },
    {
      "cell_type": "markdown",
      "id": "7d924b26",
      "metadata": {
        "id": "7d924b26"
      },
      "source": [
        "## APPLYING A MODEL"
      ]
    },
    {
      "cell_type": "code",
      "execution_count": null,
      "id": "981b42d8",
      "metadata": {
        "id": "981b42d8"
      },
      "outputs": [],
      "source": [
        "def get_embedding_vectors(tokenizer, dim=100):\n",
        "    embedding_index = {}\n",
        "    with open(f\"glove.6B.{dim}d.txt\", encoding='utf8') as f:\n",
        "        for line in tqdm.tqdm(f, \"Reading GloVe\"):\n",
        "            values = line.split()\n",
        "            word = values[0]\n",
        "            vectors = np.asarray(values[1:], dtype='float32')\n",
        "            embedding_index[word] = vectors\n",
        "\n",
        "    word_index = tokenizer.word_index\n",
        "    embedding_matrix = np.zeros((len(word_index)+1, dim))\n",
        "    for word, i in word_index.items():\n",
        "        embedding_vector = embedding_index.get(word)\n",
        "        if embedding_vector is not None:\n",
        "            # words not found will be 0s\n",
        "            embedding_matrix[i] = embedding_vector\n",
        "\n",
        "    return embedding_matrix"
      ]
    },
    {
      "cell_type": "code",
      "execution_count": null,
      "id": "892da705",
      "metadata": {
        "id": "892da705"
      },
      "outputs": [],
      "source": [
        "def get_model(tokenizer, lstm_units):\n",
        "    \"\"\"\n",
        "    Constructs the model,\n",
        "    Embedding vectors => LSTM => 2 output Fully-Connected neurons with softmax activation\n",
        "    \"\"\"\n",
        "    # get the GloVe embedding vectors\n",
        "    embedding_matrix = get_embedding_vectors(tokenizer)\n",
        "    model = Sequential()\n",
        "    model.add(Embedding(len(tokenizer.word_index)+1,\n",
        "              EMBEDDING_SIZE,\n",
        "              weights=[embedding_matrix],\n",
        "              trainable=False,\n",
        "              input_length=SL))\n",
        "\n",
        "    model.add(LSTM(lstm_units, recurrent_dropout=0.2))\n",
        "    model.add(Dropout(0.3))\n",
        "    model.add(Dense(2, activation=\"softmax\"))\n",
        "    # compile as rmsprop optimizer\n",
        "    # aswell as with recall metric\n",
        "    model.compile(optimizer=\"rmsprop\", loss=\"categorical_crossentropy\",\n",
        "                  metrics=[\"accuracy\", tf.keras.metrics.PrecisionAtRecall(\n",
        "    recall=0.5, num_thresholds=200, class_id=None, name=None, dtype=None\n",
        "),tf.keras.metrics.PrecisionAtRecall(\n",
        "    recall=0.5, num_thresholds=200, class_id=None, name=None, dtype=None\n",
        ")])\n",
        "    model.summary()\n",
        "    return model"
      ]
    },
    {
      "cell_type": "code",
      "execution_count": null,
      "id": "02b45dd0",
      "metadata": {
        "id": "02b45dd0",
        "outputId": "ec7ac648-5896-41ac-ce9d-8c0aeb2b03f3"
      },
      "outputs": [
        {
          "name": "stderr",
          "output_type": "stream",
          "text": [
            "Reading GloVe: 400000it [00:07, 50948.94it/s]\n"
          ]
        },
        {
          "name": "stdout",
          "output_type": "stream",
          "text": [
            "Model: \"sequential_1\"\n",
            "_________________________________________________________________\n",
            " Layer (type)                Output Shape              Param #   \n",
            "=================================================================\n",
            " embedding_1 (Embedding)     (None, 100, 100)          901300    \n",
            "                                                                 \n",
            " lstm_1 (LSTM)               (None, 128)               117248    \n",
            "                                                                 \n",
            " dropout_1 (Dropout)         (None, 128)               0         \n",
            "                                                                 \n",
            " dense_1 (Dense)             (None, 2)                 258       \n",
            "                                                                 \n",
            "=================================================================\n",
            "Total params: 1,018,806\n",
            "Trainable params: 117,506\n",
            "Non-trainable params: 901,300\n",
            "_________________________________________________________________\n"
          ]
        }
      ],
      "source": [
        "# constructs the model with 128 LSTM units\n",
        "model = get_model(tokenizer=tokenizer, lstm_units=128)\n",
        "\n"
      ]
    },
    {
      "cell_type": "markdown",
      "id": "9da18c23",
      "metadata": {
        "id": "9da18c23"
      },
      "source": [
        "# Training a model"
      ]
    },
    {
      "cell_type": "code",
      "execution_count": null,
      "id": "f990e510",
      "metadata": {
        "id": "f990e510"
      },
      "outputs": [],
      "source": [
        "from sklearn import metrics\n",
        "import time"
      ]
    },
    {
      "cell_type": "code",
      "execution_count": null,
      "id": "140fd7ab",
      "metadata": {
        "id": "140fd7ab",
        "outputId": "560df023-fc4f-4a63-a3bf-18feff3f35a6"
      },
      "outputs": [
        {
          "name": "stdout",
          "output_type": "stream",
          "text": [
            "Epoch 1/10\n",
            "66/66 [==============================] - ETA: 0s - loss: 0.1577 - accuracy: 0.9407 - precision_at_recall_2: 0.9953 - precision_at_recall_3: 0.9953\n",
            "Epoch 1: val_loss improved from inf to 0.17644, saving model to results\\spam_classifier_0.18.h5\n",
            "66/66 [==============================] - 18s 236ms/step - loss: 0.1577 - accuracy: 0.9407 - precision_at_recall_2: 0.9953 - precision_at_recall_3: 0.9953 - val_loss: 0.1764 - val_accuracy: 0.9405 - val_precision_at_recall_2: 0.9942 - val_precision_at_recall_3: 0.9942\n",
            "Epoch 2/10\n",
            "66/66 [==============================] - ETA: 0s - loss: 0.0804 - accuracy: 0.9725 - precision_at_recall_2: 0.9978 - precision_at_recall_3: 0.9978\n",
            "Epoch 2: val_loss improved from 0.17644 to 0.08186, saving model to results\\spam_classifier_0.08.h5\n",
            "66/66 [==============================] - 15s 231ms/step - loss: 0.0804 - accuracy: 0.9725 - precision_at_recall_2: 0.9978 - precision_at_recall_3: 0.9978 - val_loss: 0.0819 - val_accuracy: 0.9749 - val_precision_at_recall_2: 0.9980 - val_precision_at_recall_3: 0.9980\n",
            "Epoch 3/10\n",
            "66/66 [==============================] - ETA: 0s - loss: 0.0664 - accuracy: 0.9773 - precision_at_recall_2: 0.9987 - precision_at_recall_3: 0.9987\n",
            "Epoch 3: val_loss improved from 0.08186 to 0.06741, saving model to results\\spam_classifier_0.07.h5\n",
            "66/66 [==============================] - 16s 236ms/step - loss: 0.0664 - accuracy: 0.9773 - precision_at_recall_2: 0.9987 - precision_at_recall_3: 0.9987 - val_loss: 0.0674 - val_accuracy: 0.9792 - val_precision_at_recall_2: 0.9990 - val_precision_at_recall_3: 0.9990\n",
            "Epoch 4/10\n",
            "66/66 [==============================] - ETA: 0s - loss: 0.0528 - accuracy: 0.9825 - precision_at_recall_2: 0.9989 - precision_at_recall_3: 0.9989\n",
            "Epoch 4: val_loss did not improve from 0.06741\n",
            "66/66 [==============================] - 16s 244ms/step - loss: 0.0528 - accuracy: 0.9825 - precision_at_recall_2: 0.9989 - precision_at_recall_3: 0.9989 - val_loss: 0.1273 - val_accuracy: 0.9605 - val_precision_at_recall_2: 0.9919 - val_precision_at_recall_3: 0.9919\n",
            "Epoch 5/10\n",
            "66/66 [==============================] - ETA: 0s - loss: 0.0448 - accuracy: 0.9864 - precision_at_recall_2: 0.9997 - precision_at_recall_3: 0.9997\n",
            "Epoch 5: val_loss improved from 0.06741 to 0.06737, saving model to results\\spam_classifier_0.07.h5\n",
            "66/66 [==============================] - 16s 245ms/step - loss: 0.0448 - accuracy: 0.9864 - precision_at_recall_2: 0.9997 - precision_at_recall_3: 0.9997 - val_loss: 0.0674 - val_accuracy: 0.9778 - val_precision_at_recall_2: 0.9990 - val_precision_at_recall_3: 0.9990\n",
            "Epoch 6/10\n",
            "66/66 [==============================] - ETA: 0s - loss: 0.0403 - accuracy: 0.9888 - precision_at_recall_2: 0.9994 - precision_at_recall_3: 0.9994\n",
            "Epoch 6: val_loss did not improve from 0.06737\n",
            "66/66 [==============================] - 16s 242ms/step - loss: 0.0403 - accuracy: 0.9888 - precision_at_recall_2: 0.9994 - precision_at_recall_3: 0.9994 - val_loss: 0.0798 - val_accuracy: 0.9763 - val_precision_at_recall_2: 0.9973 - val_precision_at_recall_3: 0.9973\n",
            "Epoch 7/10\n",
            "66/66 [==============================] - ETA: 0s - loss: 0.0363 - accuracy: 0.9897 - precision_at_recall_2: 0.9991 - precision_at_recall_3: 0.9991\n",
            "Epoch 7: val_loss improved from 0.06737 to 0.06736, saving model to results\\spam_classifier_0.07.h5\n",
            "66/66 [==============================] - 16s 243ms/step - loss: 0.0363 - accuracy: 0.9897 - precision_at_recall_2: 0.9991 - precision_at_recall_3: 0.9991 - val_loss: 0.0674 - val_accuracy: 0.9799 - val_precision_at_recall_2: 0.9966 - val_precision_at_recall_3: 0.9966\n",
            "Epoch 8/10\n",
            "66/66 [==============================] - ETA: 0s - loss: 0.0304 - accuracy: 0.9919 - precision_at_recall_2: 0.9991 - precision_at_recall_3: 0.9991\n",
            "Epoch 8: val_loss did not improve from 0.06736\n",
            "66/66 [==============================] - 16s 243ms/step - loss: 0.0304 - accuracy: 0.9919 - precision_at_recall_2: 0.9991 - precision_at_recall_3: 0.9991 - val_loss: 0.0721 - val_accuracy: 0.9806 - val_precision_at_recall_2: 0.9968 - val_precision_at_recall_3: 0.9968\n",
            "Epoch 9/10\n",
            "66/66 [==============================] - ETA: 0s - loss: 0.0255 - accuracy: 0.9931 - precision_at_recall_2: 0.9997 - precision_at_recall_3: 0.9997\n",
            "Epoch 9: val_loss did not improve from 0.06736\n",
            "66/66 [==============================] - 16s 245ms/step - loss: 0.0255 - accuracy: 0.9931 - precision_at_recall_2: 0.9997 - precision_at_recall_3: 0.9997 - val_loss: 0.0967 - val_accuracy: 0.9663 - val_precision_at_recall_2: 0.9988 - val_precision_at_recall_3: 0.9988\n",
            "Epoch 10/10\n",
            "66/66 [==============================] - ETA: 0s - loss: 0.0196 - accuracy: 0.9947 - precision_at_recall_2: 0.9995 - precision_at_recall_3: 0.9995\n",
            "Epoch 10: val_loss improved from 0.06736 to 0.06213, saving model to results\\spam_classifier_0.06.h5\n",
            "66/66 [==============================] - 16s 236ms/step - loss: 0.0196 - accuracy: 0.9947 - precision_at_recall_2: 0.9995 - precision_at_recall_3: 0.9995 - val_loss: 0.0621 - val_accuracy: 0.9806 - val_precision_at_recall_2: 0.9964 - val_precision_at_recall_3: 0.9964\n"
          ]
        },
        {
          "data": {
            "text/plain": [
              "<keras.callbacks.History at 0x24916129ca0>"
            ]
          },
          "execution_count": 44,
          "metadata": {},
          "output_type": "execute_result"
        }
      ],
      "source": [
        "# initialize our ModelCheckpoint and TensorBoard callbacks\n",
        "# model checkpoint for saving best weights\n",
        "model_checkpoint = ModelCheckpoint(\"results/spam_classifier_{val_loss:.2f}.h5\", save_best_only=True,\n",
        "                                    verbose=1)\n",
        "# train the model\n",
        "model.fit(X_train, y_train, validation_data=(X_test, y_test),\n",
        "          batch_size=BATCH_SIZE, epochs=EPOCHS,\n",
        "          callbacks=[tensorboard, model_checkpoint],\n",
        "          verbose=1)"
      ]
    },
    {
      "cell_type": "markdown",
      "id": "1a46f3a2",
      "metadata": {
        "id": "1a46f3a2"
      },
      "source": [
        "# Evaluating a model"
      ]
    },
    {
      "cell_type": "code",
      "execution_count": null,
      "id": "88b0614e",
      "metadata": {
        "scrolled": true,
        "id": "88b0614e",
        "outputId": "e0ebe722-2d69-41b4-d8f0-b7db11b5133e"
      },
      "outputs": [
        {
          "name": "stdout",
          "output_type": "stream",
          "text": [
            "44/44 [==============================] - 1s 20ms/step - loss: 0.0628 - accuracy: 0.9835 - precision_at_recall_2: 0.9959 - precision_at_recall_3: 0.9959\n",
            "[+] Accuracy: 98.35%\n",
            "[+] Precision:   99.59%\n",
            "[+] Recall:   99.59%\n"
          ]
        }
      ],
      "source": [
        "# get the loss and metrics\n",
        "result = model.evaluate(X_test, y_test)\n",
        "\n",
        "# extract those\n",
        "loss = result[0]\n",
        "accuracy = result[1]\n",
        "precision = result[2]\n",
        "recall = result[3]\n",
        "\n",
        "print(f\"[+] Accuracy: {accuracy*100:.2f}%\")\n",
        "print(f\"[+] Precision:   {precision*100:.2f}%\")\n",
        "print(f\"[+] Recall:   {recall*100:.2f}%\")"
      ]
    },
    {
      "cell_type": "markdown",
      "id": "33f86ee1",
      "metadata": {
        "id": "33f86ee1"
      },
      "source": [
        "# Testing the model"
      ]
    },
    {
      "cell_type": "code",
      "execution_count": null,
      "id": "a6d2d76f",
      "metadata": {
        "id": "a6d2d76f"
      },
      "outputs": [],
      "source": [
        "def get_predictions(text):\n",
        "    sequence = tokenizer.texts_to_sequences([text])\n",
        "    # pad the sequence\n",
        "    sequence = pad_sequences(sequence, maxlen=SL)\n",
        "    # get the prediction\n",
        "    prediction = model.predict(sequence)[0]\n",
        "    # either 0 or 1\n",
        "    # one-hot encoded vector, revert using np.argmax\n",
        "    return int2label[np.argmax(prediction)]"
      ]
    },
    {
      "cell_type": "code",
      "execution_count": null,
      "id": "5be2318c",
      "metadata": {
        "id": "5be2318c",
        "outputId": "b63ce680-7dfb-4eb7-dad6-edc61e749432"
      },
      "outputs": [
        {
          "name": "stdout",
          "output_type": "stream",
          "text": [
            "1/1 [==============================] - 0s 188ms/step\n"
          ]
        },
        {
          "data": {
            "text/plain": [
              "'spam'"
            ]
          },
          "execution_count": 56,
          "metadata": {},
          "output_type": "execute_result"
        }
      ],
      "source": [
        "text = \"You won a prize of 1,000$, click here to claim!\"\n",
        "get_predictions(text)"
      ]
    },
    {
      "cell_type": "code",
      "execution_count": null,
      "id": "5c42e1a1",
      "metadata": {
        "id": "5c42e1a1",
        "outputId": "3aac4ec7-5ded-443d-85e4-84e005571f4c"
      },
      "outputs": [
        {
          "name": "stdout",
          "output_type": "stream",
          "text": [
            "1/1 [==============================] - 0s 19ms/step\n",
            "ham\n"
          ]
        }
      ],
      "source": [
        "text = \"Hi man, I was wondering if we can meet tomorrow.\"\n",
        "print(get_predictions(text))"
      ]
    },
    {
      "cell_type": "code",
      "execution_count": null,
      "id": "04ad5888",
      "metadata": {
        "id": "04ad5888",
        "outputId": "ff2dcab6-c914-4062-87b3-9fa0d7978820"
      },
      "outputs": [
        {
          "name": "stdout",
          "output_type": "stream",
          "text": [
            "You won a prize of 1,000$, click here to claim!\n",
            "1/1 [==============================] - 0s 17ms/step\n"
          ]
        },
        {
          "data": {
            "text/plain": [
              "'spam'"
            ]
          },
          "execution_count": 58,
          "metadata": {},
          "output_type": "execute_result"
        }
      ],
      "source": [
        "text=input()\n",
        "get_predictions(text)"
      ]
    }
  ],
  "metadata": {
    "kernelspec": {
      "display_name": "Python 3 (ipykernel)",
      "language": "python",
      "name": "python3"
    },
    "language_info": {
      "codemirror_mode": {
        "name": "ipython",
        "version": 3
      },
      "file_extension": ".py",
      "mimetype": "text/x-python",
      "name": "python",
      "nbconvert_exporter": "python",
      "pygments_lexer": "ipython3",
      "version": "3.9.12"
    },
    "colab": {
      "provenance": []
    }
  },
  "nbformat": 4,
  "nbformat_minor": 5
}